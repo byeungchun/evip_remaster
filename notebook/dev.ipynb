{
 "cells": [
  {
   "cell_type": "code",
   "execution_count": 1,
   "id": "a6847bf0-a16f-49f2-8a36-ec33c95fbc1c",
   "metadata": {},
   "outputs": [],
   "source": [
    "%load_ext autoreload\n",
    "%autoreload 2"
   ]
  },
  {
   "cell_type": "code",
   "execution_count": 3,
   "id": "a79271e5-6b10-4430-b456-4db559d79fc8",
   "metadata": {},
   "outputs": [],
   "source": [
    "import os\n",
    "import pandas as pd"
   ]
  },
  {
   "cell_type": "code",
   "execution_count": 4,
   "id": "e06d6f75-2917-4aa5-adf4-da742008dda6",
   "metadata": {},
   "outputs": [],
   "source": [
    "os.chdir('..')"
   ]
  },
  {
   "cell_type": "code",
   "execution_count": 220,
   "id": "57f099a7-8d97-40cc-abe2-7927851bd65f",
   "metadata": {},
   "outputs": [],
   "source": [
    "from evip2.utility.signiture import extract_sample_from_sigfile\n",
    "from evip2.utility.kallisto import (\n",
    "    concat_tpm_from_abundance,\n",
    "    sum_tpm_by_gene_name,\n",
    "    calculate_tpm_log2,\n",
    "    calculate_tpm_zscore,\n",
    "    calculate_corr_sample\n",
    ")\n",
    "from gtfparse import read_gtf"
   ]
  },
  {
   "cell_type": "code",
   "execution_count": 143,
   "id": "af5414a9-c919-4ccb-aa1c-d48cdd9236e2",
   "metadata": {},
   "outputs": [],
   "source": [
    "sigfile = r'../tutorial_files/RNF43_sig.info'\n",
    "gtffile = r'../tutorial_files/Homo_sapiens.GRCh38.104.gtf'"
   ]
  },
  {
   "cell_type": "code",
   "execution_count": 9,
   "id": "1cad8d40-4f20-4da2-8466-3e844f83d425",
   "metadata": {},
   "outputs": [],
   "source": [
    "samples = extract_sample_from_sigfile(sigfile)"
   ]
  },
  {
   "cell_type": "code",
   "execution_count": 10,
   "id": "048743be-6422-40db-ae95-7c68f767f723",
   "metadata": {},
   "outputs": [
    {
     "data": {
      "text/plain": [
       "['RNF43_WT_4',\n",
       " 'RNF43_WT_3',\n",
       " 'RNF43_WT_2',\n",
       " 'RNF43_WT_1',\n",
       " 'GFP_4',\n",
       " 'GFP_3',\n",
       " 'GFP_2',\n",
       " 'GFP_1',\n",
       " 'RNF43_R117fs_4',\n",
       " 'RNF43_R117fs_3',\n",
       " 'RNF43_R117fs_2',\n",
       " 'RNF43_R117fs_1',\n",
       " 'RNF43_G659fs_4',\n",
       " 'RNF43_G659fs_3',\n",
       " 'RNF43_G659fs_2',\n",
       " 'RNF43_G659fs_1']"
      ]
     },
     "execution_count": 10,
     "metadata": {},
     "output_type": "execute_result"
    }
   ],
   "source": [
    "samples"
   ]
  },
  {
   "cell_type": "code",
   "execution_count": 32,
   "id": "1a337374-9039-4fa5-a76c-e70f07d45a09",
   "metadata": {},
   "outputs": [],
   "source": [
    "abundance_folder = r'../tutorial_files/RNF43_kallisto_outputs'\n",
    "abundance_files = {x:f'{abundence_folder}/{x}/abundance.tsv' for x in samples}"
   ]
  },
  {
   "cell_type": "code",
   "execution_count": 150,
   "id": "5afd549a-754a-44c3-a820-0e953dd30aeb",
   "metadata": {},
   "outputs": [],
   "source": [
    "df_tpm =concat_tpm_from_abundance(abundance_files)"
   ]
  },
  {
   "cell_type": "code",
   "execution_count": null,
   "id": "96f3ef61-f3c3-41d4-80d5-c61ec54ee00d",
   "metadata": {},
   "outputs": [],
   "source": [
    "df_gtf = read_gtf(gtffile)"
   ]
  },
  {
   "cell_type": "code",
   "execution_count": 163,
   "id": "cf404038-1df1-4124-b6dd-83f212978b99",
   "metadata": {},
   "outputs": [],
   "source": [
    "df_tpm_gene = sum_tpm_by_gene_name(df_tpm, df_gtf)"
   ]
  },
  {
   "cell_type": "code",
   "execution_count": 209,
   "id": "94536c1d-4cab-4f9d-b586-cf956c6ea535",
   "metadata": {},
   "outputs": [],
   "source": [
    "df_tpm_gene_log = calculate_tpm_log2(df_tpm_gene)"
   ]
  },
  {
   "cell_type": "code",
   "execution_count": 216,
   "id": "d7f28a33-e353-4dcb-8f61-f4351ead8f93",
   "metadata": {},
   "outputs": [],
   "source": [
    "df_tpm_gene_zscore = calculate_tpm_zscore(df_tpm_gene_log)"
   ]
  },
  {
   "cell_type": "code",
   "execution_count": 222,
   "id": "e28e748f-104e-4627-a39e-30c48edf50f3",
   "metadata": {},
   "outputs": [],
   "source": [
    "df_sample_corr = calculate_corr_sample(df_tpm_gene_zscore)"
   ]
  },
  {
   "cell_type": "code",
   "execution_count": null,
   "id": "8ce3ee0a-3b36-41e1-a5c9-2d5ca5b790fd",
   "metadata": {},
   "outputs": [],
   "source": []
  }
 ],
 "metadata": {
  "kernelspec": {
   "display_name": "Python 3",
   "language": "python",
   "name": "python3"
  },
  "language_info": {
   "codemirror_mode": {
    "name": "ipython",
    "version": 3
   },
   "file_extension": ".py",
   "mimetype": "text/x-python",
   "name": "python",
   "nbconvert_exporter": "python",
   "pygments_lexer": "ipython3",
   "version": "3.8.10"
  }
 },
 "nbformat": 4,
 "nbformat_minor": 5
}
